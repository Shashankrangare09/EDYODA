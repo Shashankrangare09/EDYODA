{
 "cells": [
  {
   "cell_type": "code",
   "execution_count": 14,
   "id": "c0175779",
   "metadata": {},
   "outputs": [
    {
     "name": "stdout",
     "output_type": "stream",
     "text": [
      "Enter the number for Fibonacci series10\n",
      "0 1 1 2 3 5 8 13 21 34 "
     ]
    }
   ],
   "source": [
    "# Enter any number                                               #0,1,1,2,3,5....\n",
    "num=int(input(\"Enter the number for Fibonacci series\"))          # im entering num= 10\n",
    "a=0                                         #first element of series\n",
    "b=1                                         #second element of series\n",
    "if num<=0:\n",
    "    print(\"The requested series is\",f)\n",
    "else:\n",
    "    print(a,b,end=\" \")\n",
    "    for i in range(2,num):\n",
    "        next=a+b                           \n",
    "        print(next,end=\" \")\n",
    "        a=b\n",
    "        b=next\n",
    "\n",
    "# my output is 0 1 1 2 3 5 8 13 21 34"
   ]
  },
  {
   "cell_type": "code",
   "execution_count": null,
   "id": "cb04f667",
   "metadata": {},
   "outputs": [],
   "source": [
    "\n"
   ]
  },
  {
   "cell_type": "code",
   "execution_count": null,
   "id": "2aec2ef4",
   "metadata": {},
   "outputs": [],
   "source": []
  },
  {
   "cell_type": "code",
   "execution_count": null,
   "id": "48f0e356",
   "metadata": {},
   "outputs": [],
   "source": []
  }
 ],
 "metadata": {
  "kernelspec": {
   "display_name": "Python 3",
   "language": "python",
   "name": "python3"
  },
  "language_info": {
   "codemirror_mode": {
    "name": "ipython",
    "version": 3
   },
   "file_extension": ".py",
   "mimetype": "text/x-python",
   "name": "python",
   "nbconvert_exporter": "python",
   "pygments_lexer": "ipython3",
   "version": "3.8.8"
  }
 },
 "nbformat": 4,
 "nbformat_minor": 5
}
