{
 "cells": [
  {
   "cell_type": "markdown",
   "id": "0891f4b1",
   "metadata": {},
   "source": [
    "## Write a Python class to implement pow(x, n)\n",
    "\n",
    "Explanation:\n",
    "\n",
    "Use should be able to find the nth power of the x.(i.e x*x*x*x...n times)\n",
    "You must implement it using Class\n",
    "\n",
    "Sample Input:\n",
    "\n",
    "x: 10\n",
    "n: 2\n",
    "\n",
    "Sample Output:\n",
    "\n",
    "100"
   ]
  },
  {
   "cell_type": "code",
   "execution_count": 2,
   "id": "c77511a5",
   "metadata": {},
   "outputs": [
    {
     "name": "stdout",
     "output_type": "stream",
     "text": [
      "100\n"
     ]
    }
   ],
   "source": [
    "class py_solution:\n",
    "\n",
    "    def pow(self, x, n):\n",
    "\n",
    "        if x==0 or x==1 or n==1:\n",
    "\n",
    "            return x\n",
    "\n",
    "        if x==-1:\n",
    "\n",
    "            if n%2 ==0:\n",
    "\n",
    "                return 1\n",
    "\n",
    "            else:\n",
    "\n",
    "                return -1\n",
    "\n",
    "        if n==0:\n",
    "\n",
    "            return 1\n",
    "\n",
    "        if n<0:\n",
    "\n",
    "            return 1/self.pow(x,-n)\n",
    "\n",
    "        val = self.pow(x,n//2)\n",
    "\n",
    "        if n%2 ==0:\n",
    "\n",
    "            return val*val\n",
    "\n",
    "        return val*val*x\n",
    "\n",
    "print(py_solution().pow(10, 2));\n",
    "\n"
   ]
  },
  {
   "cell_type": "code",
   "execution_count": null,
   "id": "4d326322",
   "metadata": {},
   "outputs": [],
   "source": []
  },
  {
   "cell_type": "code",
   "execution_count": null,
   "id": "aed1ec66",
   "metadata": {},
   "outputs": [],
   "source": []
  }
 ],
 "metadata": {
  "kernelspec": {
   "display_name": "Python 3",
   "language": "python",
   "name": "python3"
  },
  "language_info": {
   "codemirror_mode": {
    "name": "ipython",
    "version": 3
   },
   "file_extension": ".py",
   "mimetype": "text/x-python",
   "name": "python",
   "nbconvert_exporter": "python",
   "pygments_lexer": "ipython3",
   "version": "3.8.8"
  }
 },
 "nbformat": 4,
 "nbformat_minor": 5
}
