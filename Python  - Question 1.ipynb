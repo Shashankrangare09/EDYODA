{
 "cells": [
  {
   "cell_type": "code",
   "execution_count": 1,
   "id": "7abf7cdf",
   "metadata": {},
   "outputs": [],
   "source": [
    "### Python Candidates - Question 1\n",
    "#You will have a number of elements and in the next n lines element of a list. You have to create a list from the given strings. You have to sort the list based on 2nd last character of a string.\n",
    "\n",
    "#For example: given list = ['great','hello','hiyo','abc'] so your output_dictionary should be ['great', 'abc', 'hello','hiyo']\n",
    "\n",
    "#Input Format:\n",
    "\n",
    "#At first-line it will have an integer (number of elements inside a list). In the second line, it will have a string.\n",
    "\n",
    "#Output Format:\n",
    "\n",
    "#A single line containing a sorted list."
   ]
  },
  {
   "cell_type": "code",
   "execution_count": 4,
   "id": "8cb94fd6",
   "metadata": {},
   "outputs": [
    {
     "name": "stdout",
     "output_type": "stream",
     "text": [
      "-1\n"
     ]
    }
   ],
   "source": [
    "n = int(input())\n",
    "lst = ['great','hello','hiyo','abc']\n",
    "for i in range(n):\n",
    "    s = input()\n",
    "    lst.append(s)\n",
    "lst.sort(key=lambda x: x[-2])"
   ]
  },
  {
   "cell_type": "code",
   "execution_count": 5,
   "id": "05c864d2",
   "metadata": {},
   "outputs": [
    {
     "name": "stdout",
     "output_type": "stream",
     "text": [
      "['great', 'abc', 'hello', 'hiyo']\n"
     ]
    }
   ],
   "source": [
    "print(lst)"
   ]
  },
  {
   "cell_type": "code",
   "execution_count": null,
   "id": "048edfb4",
   "metadata": {},
   "outputs": [],
   "source": []
  }
 ],
 "metadata": {
  "kernelspec": {
   "display_name": "Python 3",
   "language": "python",
   "name": "python3"
  },
  "language_info": {
   "codemirror_mode": {
    "name": "ipython",
    "version": 3
   },
   "file_extension": ".py",
   "mimetype": "text/x-python",
   "name": "python",
   "nbconvert_exporter": "python",
   "pygments_lexer": "ipython3",
   "version": "3.8.8"
  }
 },
 "nbformat": 4,
 "nbformat_minor": 5
}
