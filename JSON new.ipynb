{
 "cells": [
  {
   "cell_type": "code",
   "execution_count": 2,
   "id": "6981fa8c",
   "metadata": {},
   "outputs": [
    {
     "name": "stdout",
     "output_type": "stream",
     "text": [
      "{'1': {'Name': 'Nitin', 'dob': '1997', 'height': '5.6', 'city': 'ongole', 'state': 'andhra pradesh'}, '2': {'Name': 'Shanu', 'dob': '1998', 'height': '5.4', 'city': ' kurnool', 'state': 'telangena'}, '3': {'Name': 'Vinay', 'dob': '1999', 'height': '5.5', 'city': ' vijayawada', 'state': 'andhra pradesh'}, '4': {'Name': 'Amman', 'dob': '1995', 'height': '5.8', 'city': ' chimakurthy', 'state': 'telangena'}, '5': {'Name': 'Ismail', 'dob': '1994', 'height': '5.2', 'city': ' ongole', 'state': 'ap'}}\n"
     ]
    }
   ],
   "source": [
    "import json\n",
    "employee={1:{\"Name\":\"Nitin\",\"dob\":\"1997\",\"height\":\"5.6\",\"city\": \"ongole\",\"state\":\"andhra pradesh\"},\n",
    "          2:{\"Name\":\"Shanu\",\"dob\":\"1998\",\"height\":\"5.4\",\"city\":\" kurnool\",\"state\":\"telangena\"},\n",
    "          3:{\"Name\":\"Vinay\",\"dob\":\"1999\",\"height\":\"5.5\",\"city\":\" vijayawada\",\"state\":\"andhra pradesh\"},\n",
    "          4:{\"Name\":\"Amman\",\"dob\":\"1995\",\"height\":\"5.8\",\"city\":\" chimakurthy\",\"state\":\"telangena\"},\n",
    "          5:{\"Name\":\"Ismail\",\"dob\":\"1994\",\"height\":\"5.2\",\"city\":\" ongole\",\"state\":\"ap\"}}\n",
    "\n",
    "with  open('data.json',\"w\") as f:\n",
    "             json.dump(employee,f)\n",
    "with open('data.json',\"r\") as d:\n",
    "             s=json.load(d)\n",
    "             print(s)\n",
    "             "
   ]
  },
  {
   "cell_type": "code",
   "execution_count": 2,
   "id": "1dc26bf8",
   "metadata": {},
   "outputs": [
    {
     "name": "stdout",
     "output_type": "stream",
     "text": [
      "{'1': {'Andhra pradesh': 'vishakapantam'}, '2': {'Hyderabad': 'telangana state'}, '3': {'asam': 'dispur'}, '4': {'bihar': 'patna'}, '5': {'goa': 'panaji'}, '6': {'haryana': 'chandigarh'}, '7': {'karnataka': 'bengalur'}}\n"
     ]
    }
   ],
   "source": [
    "import json\n",
    "states={1:{\"Andhra pradesh\":\"vishakapantam\"},\n",
    "        2:{\"Hyderabad\":\"telangana state\"},\n",
    "        3:{\"asam\":\"dispur\"},\n",
    "        4:{\"bihar\":\"patna\"},\n",
    "        5:{\"goa\":\"panaji\"},\n",
    "        6:{\"haryana\":\"chandigarh\"},\n",
    "        7:{\"karnataka\":\"bengalur\"}}\n",
    "with open('data.json',\"w\") as f:\n",
    "    json.dump(states,f)\n",
    "with open('data.json',\"r\") as d:\n",
    "    s=json.load(d)\n",
    "    print(s)"
   ]
  },
  {
   "cell_type": "code",
   "execution_count": null,
   "id": "3b4c3a31",
   "metadata": {},
   "outputs": [],
   "source": []
  },
  {
   "cell_type": "code",
   "execution_count": null,
   "id": "74f62432",
   "metadata": {},
   "outputs": [],
   "source": []
  }
 ],
 "metadata": {
  "kernelspec": {
   "display_name": "Python 3",
   "language": "python",
   "name": "python3"
  },
  "language_info": {
   "codemirror_mode": {
    "name": "ipython",
    "version": 3
   },
   "file_extension": ".py",
   "mimetype": "text/x-python",
   "name": "python",
   "nbconvert_exporter": "python",
   "pygments_lexer": "ipython3",
   "version": "3.8.8"
  }
 },
 "nbformat": 4,
 "nbformat_minor": 5
}
