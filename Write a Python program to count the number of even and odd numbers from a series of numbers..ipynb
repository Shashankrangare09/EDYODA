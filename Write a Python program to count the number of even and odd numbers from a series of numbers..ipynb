{
 "cells": [
  {
   "cell_type": "code",
   "execution_count": 2,
   "id": "e768508c",
   "metadata": {},
   "outputs": [
    {
     "name": "stdout",
     "output_type": "stream",
     "text": [
      "Total odd numbers : 5\n",
      "Total even numbers : 4\n"
     ]
    }
   ],
   "source": [
    "list1 = (1, 2, 3, 4, 5, 6, 7, 8, 9) # Declaring the tuple\n",
    "total_odd = 0\n",
    "total_even = 0\n",
    "for i in list1:\n",
    "        if(i % 2 == 0):\n",
    "            total_even = total_even + 1\n",
    "        else:\n",
    "            total_odd = total_odd + 1\n",
    "print(\"Total odd numbers :\",total_odd)\n",
    "print(\"Total even numbers :\",total_even)\n",
    "\n",
    "#Total odd numbers : 5\n",
    "#Total even numbers : 4\n"
   ]
  },
  {
   "cell_type": "code",
   "execution_count": null,
   "id": "30a4b62b",
   "metadata": {},
   "outputs": [],
   "source": []
  }
 ],
 "metadata": {
  "kernelspec": {
   "display_name": "Python 3",
   "language": "python",
   "name": "python3"
  },
  "language_info": {
   "codemirror_mode": {
    "name": "ipython",
    "version": 3
   },
   "file_extension": ".py",
   "mimetype": "text/x-python",
   "name": "python",
   "nbconvert_exporter": "python",
   "pygments_lexer": "ipython3",
   "version": "3.8.8"
  }
 },
 "nbformat": 4,
 "nbformat_minor": 5
}
