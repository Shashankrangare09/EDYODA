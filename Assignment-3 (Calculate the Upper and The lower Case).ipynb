{
 "cells": [
  {
   "cell_type": "markdown",
   "id": "0e7696de",
   "metadata": {},
   "source": [
    "###  Write a Python function that accepts a string and calculate the number of upper case letters and lower case letters.\n",
    "\n",
    "﻿Sample String : 'The quick Brow Fox'\n",
    "\n",
    "Expected Output :\n",
    "\n",
    "No. of Upper case characters : 3\n",
    "\n",
    "No. of Lower case Characters : 12"
   ]
  },
  {
   "cell_type": "code",
   "execution_count": 1,
   "id": "4b3545b8",
   "metadata": {},
   "outputs": [
    {
     "name": "stdout",
     "output_type": "stream",
     "text": [
      "Sample String :  The quick Brow Fox\n",
      "No. of Upper case characters :  3\n",
      "No. of Lower case Characters :  12\n"
     ]
    }
   ],
   "source": [
    "def char_count(st):\n",
    "    cnt={\"Upper_Case\":0, \"Lower_Case\":0}\n",
    "    for p in st:\n",
    "        if p.isupper():\n",
    "            cnt[\"Upper_Case\"]+=1\n",
    "        elif p.islower():\n",
    "            cnt[\"Lower_Case\"]+=1\n",
    "        else:\n",
    "            pass\n",
    "    print (\"Sample String : \", st)\n",
    "    print (\"No. of Upper case characters : \", cnt[\"Upper_Case\"])\n",
    "    print (\"No. of Lower case Characters : \", cnt[\"Lower_Case\"])\n",
    "\n",
    "char_count('The quick Brow Fox')"
   ]
  },
  {
   "cell_type": "code",
   "execution_count": null,
   "id": "65dba43a",
   "metadata": {},
   "outputs": [],
   "source": []
  }
 ],
 "metadata": {
  "kernelspec": {
   "display_name": "Python 3",
   "language": "python",
   "name": "python3"
  },
  "language_info": {
   "codemirror_mode": {
    "name": "ipython",
    "version": 3
   },
   "file_extension": ".py",
   "mimetype": "text/x-python",
   "name": "python",
   "nbconvert_exporter": "python",
   "pygments_lexer": "ipython3",
   "version": "3.8.8"
  }
 },
 "nbformat": 4,
 "nbformat_minor": 5
}
