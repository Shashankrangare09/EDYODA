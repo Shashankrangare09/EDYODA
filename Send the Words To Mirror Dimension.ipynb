{
 "cells": [
  {
   "cell_type": "markdown",
   "id": "62280810",
   "metadata": {},
   "source": [
    "#Write a Python program that accepts a word from the user and reverse it."
   ]
  },
  {
   "cell_type": "code",
   "execution_count": 3,
   "id": "5fb2abe4",
   "metadata": {},
   "outputs": [
    {
     "name": "stdout",
     "output_type": "stream",
     "text": [
      "Input a word to reverse: Edyoda\n",
      "adoydE\n",
      "\n"
     ]
    }
   ],
   "source": [
    "word = input(\"Input a word to reverse: \")     # I entered the word Edyoda\n",
    " \n",
    "for char in range(len(word) - 1, -1, -1):\n",
    "    print(word[char], end=\"\")\n",
    "print(\"\\n\")\n",
    "\n",
    "#my output is adoydE\n"
   ]
  },
  {
   "cell_type": "code",
   "execution_count": null,
   "id": "134cdec0",
   "metadata": {},
   "outputs": [],
   "source": []
  }
 ],
 "metadata": {
  "kernelspec": {
   "display_name": "Python 3",
   "language": "python",
   "name": "python3"
  },
  "language_info": {
   "codemirror_mode": {
    "name": "ipython",
    "version": 3
   },
   "file_extension": ".py",
   "mimetype": "text/x-python",
   "name": "python",
   "nbconvert_exporter": "python",
   "pygments_lexer": "ipython3",
   "version": "3.8.8"
  }
 },
 "nbformat": 4,
 "nbformat_minor": 5
}
