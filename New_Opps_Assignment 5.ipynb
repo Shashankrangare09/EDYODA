{
 "cells": [
  {
   "cell_type": "code",
   "execution_count": 1,
   "id": "ca9ae323",
   "metadata": {},
   "outputs": [
    {
     "name": "stdout",
     "output_type": "stream",
     "text": [
      "35\n"
     ]
    }
   ],
   "source": [
    "## Challenge 1\n",
    "## Square of Sum\n",
    "\n",
    "class Point:\n",
    "\n",
    "    def __init__(self,x,y,z):\n",
    "        self.x = x\n",
    "        self.y = y\n",
    "        self.z = z\n",
    "\n",
    "    def sqSum(self):\n",
    "        Sum = self.x**2 + self.y**2 + self.z**2\n",
    "        return Sum\n",
    "A = Point(1,3,5)\n",
    "print(A.sqSum())"
   ]
  },
  {
   "cell_type": "code",
   "execution_count": 2,
   "id": "9c248d3e",
   "metadata": {},
   "outputs": [
    {
     "name": "stdout",
     "output_type": "stream",
     "text": [
      "107\n",
      "-85\n",
      "1056\n",
      "0.11458333333333333\n"
     ]
    }
   ],
   "source": [
    "# Challenge 2\n",
    "# Calculator\n",
    "\n",
    "class Calculator:\n",
    "\n",
    "    def __init__(self,num1,num2):\n",
    "        self.num1 = 11\n",
    "        self.num2 = 96\n",
    "    def add(self):\n",
    "        add=self.num1+self.num2\n",
    "        return add\n",
    "    def subtract(self):\n",
    "        sub=self.num1-self.num2\n",
    "        return sub\n",
    "    def multiply(self):\n",
    "        mult=self.num1*self.num2\n",
    "        return mult\n",
    "    def divide(self):\n",
    "        div=self.num1/self.num2\n",
    "        return div\n",
    "A = Calculator(10.5,94)\n",
    "print(A.add())\n",
    "print(A.subtract())\n",
    "print(A.multiply())\n",
    "print(A.divide())"
   ]
  },
  {
   "cell_type": "code",
   "execution_count": 3,
   "id": "b7426fbf",
   "metadata": {},
   "outputs": [
    {
     "name": "stdout",
     "output_type": "stream",
     "text": [
      "shashank\n",
      "3082415025\n",
      "RAM\n",
      "78994\n"
     ]
    }
   ],
   "source": [
    "# Challenge 3\n",
    "# Complete Student Class\n",
    "\n",
    "class Student:\n",
    "    __name = \"shashank\"\n",
    "    __rollNumber = 3082415025\n",
    "\n",
    "    def setName(self,A):\n",
    "        self.__name = A\n",
    "        \n",
    "    def getName(self):\n",
    "        return self.__name\n",
    "    \n",
    "    def setRollNumber(self,B):\n",
    "        self.__rollNumber = B\n",
    "    def getRollNumber(self):\n",
    "        return self.__rollNumber\n",
    "    \n",
    "c= Student()\n",
    "       \n",
    "print(c.getName())\n",
    "print(c.getRollNumber())\n",
    "c.setName(\"RAM\")\n",
    "c.setRollNumber(78994)\n",
    "print(c.getName())\n",
    "print(c.getRollNumber())"
   ]
  },
  {
   "cell_type": "code",
   "execution_count": 12,
   "id": "09fdb7b3",
   "metadata": {},
   "outputs": [
    {
     "name": "stdout",
     "output_type": "stream",
     "text": [
      "Account Details\n",
      "Name of the Account Holder is Shashank\n",
      "Available Balance is 5000 Rs\n",
      "Here, Shashank is the title, 5000 is the balance . \n",
      "--------------------------------------------------------------\n",
      "Savings Account Details\n",
      "Name of the Account Holder is Shashank\n",
      "Available Balance is 5000 Rs\n",
      "Name of the Account Holder is Shashank\n",
      "Interest Rate on Current Balance in percent is 5\n",
      "Here, Shashank is the title, 5000 is the balance and 5 is the interestRate .\n",
      "---------------------------------------------\n",
      "---------------------------------------------\n"
     ]
    }
   ],
   "source": [
    "# Challenge 4\n",
    "# Parent and child class\n",
    "\n",
    "class Account:\n",
    "    def __init__(self,title=None,balance=0):\n",
    "        self.title=title\n",
    "        self.balance=balance\n",
    "    \n",
    "class SavingsAccount(Account):\n",
    "    def __init__(self, title=None, balance=0,InterestRate=0):\n",
    "        super().__init__(title, balance)\n",
    "        self.title=title\n",
    "        self.balance=balance\n",
    "        self.InterestRate=InterestRate\n",
    "\n",
    "print(\"Account Details\")\n",
    "A=Account(\"Shashank\", 5000)\n",
    "print(f\"Name of the Account Holder is {A.title}\")\n",
    "print(f\"Available Balance is {A.balance} Rs\")\n",
    "print(f\"Here, {A.title} is the title, {A.balance} is the balance . \")\n",
    "print(\"--------------------------------------------------------------\")\n",
    "print(\"Savings Account Details\")\n",
    "SA=SavingsAccount(\"Shashank\", 5000, 5)\n",
    "print(f\"Name of the Account Holder is {SA.title}\")\n",
    "print(f\"Available Balance is {SA.balance} Rs\")\n",
    "print(f\"Name of the Account Holder is {A.title}\")\n",
    "print(f\"Interest Rate on Current Balance in percent is {SA.InterestRate}\")\n",
    "print(f\"Here, {SA.title} is the title, {SA.balance} is the balance and {SA.InterestRate} is the interestRate .\")\n",
    "print(\"---------------------------------------------\")\n",
    "print(\"---------------------------------------------\")"
   ]
  },
  {
   "cell_type": "code",
   "execution_count": 13,
   "id": "c8de4a6b",
   "metadata": {},
   "outputs": [
    {
     "name": "stdout",
     "output_type": "stream",
     "text": [
      "2500\n",
      "1500\n",
      "100.0\n",
      "---------------------------------------------\n"
     ]
    }
   ],
   "source": [
    " #Challenge 5\n",
    "# handling bank account\n",
    "\n",
    "class Account:\n",
    "    def __init__(self, title, balance):\n",
    "        self.title = title\n",
    "        self.balance = balance\n",
    "    \n",
    "    def withdrawal(self, amount):\n",
    "        self.balance=self.balance - amount\n",
    "        \n",
    "    \n",
    "    def deposit(self, amount):\n",
    "        self.balance=self.balance + amount \n",
    "       \n",
    "    def getBalance(self):\n",
    "        return self.balance\n",
    "\n",
    "class SavingsAccount(Account):\n",
    "    def __init__(self, title=None, balance=0, interestRate=0):\n",
    "            super().__init__(title, balance)\n",
    "            self.interestRate = interestRate\n",
    "    \n",
    "    def interestAmount(self):\n",
    "        return (self.balance*self.interestRate)/100\n",
    "Ad=SavingsAccount(\"Shashank\",2000)\n",
    "Ad.deposit(500)\n",
    "Ad.getBalance()\n",
    "print(Ad.getBalance())\n",
    "\n",
    "Aw=SavingsAccount(\"Shashank\",2000)\n",
    "Aw.withdrawal(500)\n",
    "Aw.getBalance()\n",
    "print(Aw.getBalance())\n",
    "\n",
    "Si=SavingsAccount(\"Shashank\",2000,5)\n",
    "print(Si.interestAmount())\n",
    "print(\"---------------------------------------------\")\n",
    "\n"
   ]
  },
  {
   "cell_type": "code",
   "execution_count": null,
   "id": "07bdbf8f",
   "metadata": {},
   "outputs": [],
   "source": [
    "\n"
   ]
  }
 ],
 "metadata": {
  "kernelspec": {
   "display_name": "Python 3",
   "language": "python",
   "name": "python3"
  },
  "language_info": {
   "codemirror_mode": {
    "name": "ipython",
    "version": 3
   },
   "file_extension": ".py",
   "mimetype": "text/x-python",
   "name": "python",
   "nbconvert_exporter": "python",
   "pygments_lexer": "ipython3",
   "version": "3.8.8"
  }
 },
 "nbformat": 4,
 "nbformat_minor": 5
}
