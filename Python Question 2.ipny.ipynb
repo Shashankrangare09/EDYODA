{
 "cells": [
  {
   "cell_type": "code",
   "execution_count": 3,
   "id": "0ab1ed13",
   "metadata": {},
   "outputs": [],
   "source": [
    "##Python Candidates -\n",
    "#Your task is to complete the validate_triangle and validate_rectangle functions for the classes.Hint for validating is given in the\n",
    "#comments of the code. Also you will have to print the following after validation in respective functions:-\n",
    "\n",
    "#1.Invalid Triangle: If the triangle sum property of sides is not valid(More hint in the comments of code)\n",
    "\n",
    "#2.Valid Triangle:If the triangle sum property of sides is valid.\n",
    "\n",
    "#3.Valid Rectangle:If 2 side pairs are same and they are input in correct order like l,b,l,b\n",
    "\n",
    "#4.Invalid Rectangle: If Not Valid rectangle as stated above.\n",
    "\n",
    "#Input Format:\n",
    "\n",
    "#The side length of triangle followed by for rectangle in the next line in order.\n",
    "\n",
    "#Output Format:\n",
    "\n",
    "#since object are created in order, so first validate info about triangle will come and than rectangle.\n",
    "\n",
    "#Sample Input 0:\n",
    "\n",
    "# 3 4 5\n",
    "\n",
    "#2 4 2 4\n",
    "\n",
    "#Sample Output 0:\n",
    "\n",
    "#Valid Triangle\n",
    "\n",
    "#Valid Rectangle"
   ]
  },
  {
   "cell_type": "code",
   "execution_count": 4,
   "id": "107e21be",
   "metadata": {},
   "outputs": [
    {
     "name": "stdout",
     "output_type": "stream",
     "text": [
      "3 4 5\n",
      "Valid Triangle\n",
      "2 4 2 4\n",
      "Invalid Rectangle\n"
     ]
    }
   ],
   "source": [
    "class Triangle:\n",
    "    def __init__(self, a, b, c):\n",
    "        self.a = a\n",
    "        self.b = b\n",
    "        self.c = c\n",
    "\n",
    "    def validate_triangle(self):\n",
    "        if self.a + self.b > self.c and self.a + self.c > self.b and self.b + self.c > self.a:\n",
    "            print(\"Valid Triangle\")\n",
    "        else:\n",
    "            print(\"Invalid Triangle\")\n",
    "\n",
    "\n",
    "class Rectangle:\n",
    "    def __init__(self, l, b):\n",
    "        self.l = l\n",
    "        self.b = b\n",
    "\n",
    "    def validate_rectangle(self):\n",
    "        if self.l == self.b:\n",
    "            print(\"Valid Rectangle\")\n",
    "        else:\n",
    "            print(\"Invalid Rectangle\")\n",
    "\n",
    "\n",
    "a, b, c = map(int, input().split())\n",
    "t = Triangle(a, b, c)\n",
    "t.validate_triangle()\n",
    "\n",
    "l1, b1, l2, b2 = map(int, input().split())\n",
    "r = Rectangle(l1, b1)\n",
    "r.validate_rectangle()"
   ]
  },
  {
   "cell_type": "code",
   "execution_count": null,
   "id": "b8f56f92",
   "metadata": {},
   "outputs": [],
   "source": []
  }
 ],
 "metadata": {
  "kernelspec": {
   "display_name": "Python 3",
   "language": "python",
   "name": "python3"
  },
  "language_info": {
   "codemirror_mode": {
    "name": "ipython",
    "version": 3
   },
   "file_extension": ".py",
   "mimetype": "text/x-python",
   "name": "python",
   "nbconvert_exporter": "python",
   "pygments_lexer": "ipython3",
   "version": "3.8.8"
  }
 },
 "nbformat": 4,
 "nbformat_minor": 5
}
