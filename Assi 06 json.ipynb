{
 "cells": [
  {
   "cell_type": "code",
   "execution_count": 2,
   "id": "6981fa8c",
   "metadata": {},
   "outputs": [
    {
     "name": "stdout",
     "output_type": "stream",
     "text": [
      "{'1': {'Name': 'Nitin', 'dob': '1997', 'height': '5.6', 'city': 'ongole', 'state': 'andhra pradesh'}, '2': {'Name': 'Shanu', 'dob': '1998', 'height': '5.4', 'city': ' kurnool', 'state': 'telangena'}, '3': {'Name': 'Vinay', 'dob': '1999', 'height': '5.5', 'city': ' vijayawada', 'state': 'andhra pradesh'}, '4': {'Name': 'Amman', 'dob': '1995', 'height': '5.8', 'city': ' chimakurthy', 'state': 'telangena'}, '5': {'Name': 'Ismail', 'dob': '1994', 'height': '5.2', 'city': ' ongole', 'state': 'ap'}}\n"
     ]
    }
   ],
   "source": [
    "import json\n",
    "employee={1:{\"Name\":\"Nitin\",\"dob\":\"1997\",\"height\":\"5.6\",\"city\": \"ongole\",\"state\":\"andhra pradesh\"},\n",
    "          2:{\"Name\":\"Shanu\",\"dob\":\"1998\",\"height\":\"5.4\",\"city\":\" kurnool\",\"state\":\"telangena\"},\n",
    "          3:{\"Name\":\"Vinay\",\"dob\":\"1999\",\"height\":\"5.5\",\"city\":\" vijayawada\",\"state\":\"andhra pradesh\"},\n",
    "          4:{\"Name\":\"Amman\",\"dob\":\"1995\",\"height\":\"5.8\",\"city\":\" chimakurthy\",\"state\":\"telangena\"},\n",
    "          5:{\"Name\":\"Ismail\",\"dob\":\"1994\",\"height\":\"5.2\",\"city\":\" ongole\",\"state\":\"ap\"}}\n",
    "\n",
    "with  open('data.json',\"w\") as f:\n",
    "             json.dump(employee,f)\n",
    "with open('data.json',\"r\") as d:\n",
    "             s=json.load(d)\n",
    "             print(s)\n",
    "             "
   ]
  },
  {
   "cell_type": "code",
   "execution_count": 2,
   "id": "1dc26bf8",
   "metadata": {},
   "outputs": [
    {
     "name": "stdout",
     "output_type": "stream",
     "text": [
      "{'1': {'Andhra pradesh': 'vishakapantam'}, '2': {'Hyderabad': 'telangana state'}, '3': {'asam': 'dispur'}, '4': {'bihar': 'patna'}, '5': {'goa': 'panaji'}, '6': {'haryana': 'chandigarh'}, '7': {'karnataka': 'bengalur'}}\n"
     ]
    }
   ],
   "source": [
    "import json\n",
    "states={1:{\"Andhra pradesh\":\"vishakapantam\"},\n",
    "        2:{\"Hyderabad\":\"telangana state\"},\n",
    "        3:{\"asam\":\"dispur\"},\n",
    "        4:{\"bihar\":\"patna\"},\n",
    "        5:{\"goa\":\"panaji\"},\n",
    "        6:{\"haryana\":\"chandigarh\"},\n",
    "        7:{\"karnataka\":\"bengalur\"}}\n",
    "with open('data.json',\"w\") as f:\n",
    "    json.dump(states,f)\n",
    "with open('data.json',\"r\") as d:\n",
    "    s=json.load(d)\n",
    "    print(s)"
   ]
  },
  {
   "cell_type": "code",
   "execution_count": 5,
   "id": "3b4c3a31",
   "metadata": {},
   "outputs": [
    {
     "ename": "TypeError",
     "evalue": "dog() takes no arguments",
     "output_type": "error",
     "traceback": [
      "\u001b[1;31m---------------------------------------------------------------------------\u001b[0m",
      "\u001b[1;31mTypeError\u001b[0m                                 Traceback (most recent call last)",
      "\u001b[1;32m<ipython-input-5-40b726bb8abd>\u001b[0m in \u001b[0;36m<module>\u001b[1;34m\u001b[0m\n\u001b[0;32m     15\u001b[0m         \u001b[1;32mreturn\u001b[0m \u001b[1;36m5\u001b[0m\u001b[1;33m+\u001b[0m\u001b[1;36m6\u001b[0m\u001b[1;33m\u001b[0m\u001b[1;33m\u001b[0m\u001b[0m\n\u001b[0;32m     16\u001b[0m \u001b[1;33m\u001b[0m\u001b[0m\n\u001b[1;32m---> 17\u001b[1;33m \u001b[0mx\u001b[0m \u001b[1;33m=\u001b[0m \u001b[0mdog\u001b[0m\u001b[1;33m(\u001b[0m\u001b[1;34m\"rollex\"\u001b[0m\u001b[1;33m,\u001b[0m\u001b[1;36m5\u001b[0m\u001b[1;33m,\u001b[0m\u001b[1;34m\"brown\"\u001b[0m\u001b[1;33m)\u001b[0m\u001b[1;33m\u001b[0m\u001b[1;33m\u001b[0m\u001b[0m\n\u001b[0m\u001b[0;32m     18\u001b[0m \u001b[0mprint\u001b[0m\u001b[1;33m(\u001b[0m\u001b[0mx\u001b[0m\u001b[1;33m.\u001b[0m\u001b[0mget_info\u001b[0m\u001b[1;33m(\u001b[0m\u001b[1;33m)\u001b[0m\u001b[1;33m)\u001b[0m\u001b[1;33m\u001b[0m\u001b[1;33m\u001b[0m\u001b[0m\n\u001b[0;32m     19\u001b[0m \u001b[0mprint\u001b[0m\u001b[1;33m(\u001b[0m\u001b[0mx\u001b[0m\u001b[1;33m.\u001b[0m\u001b[0mdiscription\u001b[0m\u001b[1;33m(\u001b[0m\u001b[1;33m)\u001b[0m\u001b[1;33m)\u001b[0m\u001b[1;33m\u001b[0m\u001b[1;33m\u001b[0m\u001b[0m\n",
      "\u001b[1;31mTypeError\u001b[0m: dog() takes no arguments"
     ]
    }
   ],
   "source": [
    "class dog:\n",
    "    def _init_(self,name,age,coatcolour):\n",
    "        self.name=name\n",
    "        self.age=age\n",
    "        self.coatcolour=coatcolour\n",
    "    def get_info(self):\n",
    "        return self.name,self.age\n",
    "    def discription(self):\n",
    "        return self.coatcolour\n",
    "class JackRussellTerrier(dog):\n",
    "    def priya(self):\n",
    "        return 2+3\n",
    "class Bulldog(dog):\n",
    "    def sai(self):\n",
    "        return 5+6\n",
    "    \n",
    "x = dog(\"rollex\",5,\"brown\")\n",
    "print(x.get_info())\n",
    "print(x.discription())\n",
    "y = JackRussellTerrier(\"dony\",6,\"white\")\n",
    "print(y.priya())\n",
    "z = Bulldog(\"robo\",7,\"black\")\n",
    "print(z.sai())"
   ]
  },
  {
   "cell_type": "code",
   "execution_count": 7,
   "id": "12502035",
   "metadata": {},
   "outputs": [
    {
     "name": "stdout",
     "output_type": "stream",
     "text": [
      "('rollex', 5)\n",
      "brown\n",
      "5\n",
      "11\n"
     ]
    }
   ],
   "source": [
    "class dog:\n",
    "    def __init__(self,name,age,coatcolour):\n",
    "        self.name=name\n",
    "        self.age=age\n",
    "        self.coatcolour=coatcolour\n",
    "    def get_info(self):\n",
    "        return self.name,self.age\n",
    "    def discription(self):\n",
    "        return self.coatcolour\n",
    "class JackRussellTerrier(dog):\n",
    "    def priya(self):\n",
    "        return 2+3\n",
    "class Bulldog(dog):\n",
    "    def sai(self):\n",
    "        return 5+6\n",
    "    \n",
    "x = dog(\"rollex\",5,\"brown\")\n",
    "print(x.get_info())\n",
    "print(x.discription())\n",
    "y = JackRussellTerrier(\"dony\",6,\"white\")\n",
    "print(y.priya())\n",
    "z = Bulldog(\"robo\",7,\"black\")\n",
    "print(z.sai())"
   ]
  },
  {
   "cell_type": "code",
   "execution_count": null,
   "id": "e540686f",
   "metadata": {},
   "outputs": [],
   "source": []
  }
 ],
 "metadata": {
  "kernelspec": {
   "display_name": "Python 3",
   "language": "python",
   "name": "python3"
  },
  "language_info": {
   "codemirror_mode": {
    "name": "ipython",
    "version": 3
   },
   "file_extension": ".py",
   "mimetype": "text/x-python",
   "name": "python",
   "nbconvert_exporter": "python",
   "pygments_lexer": "ipython3",
   "version": "3.8.8"
  }
 },
 "nbformat": 4,
 "nbformat_minor": 5
}
